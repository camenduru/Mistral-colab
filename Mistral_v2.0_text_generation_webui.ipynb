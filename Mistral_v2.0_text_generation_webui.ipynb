{
  "cells": [
    {
      "cell_type": "markdown",
      "metadata": {
        "id": "view-in-github"
      },
      "source": [
        "[![Open In Colab](https://colab.research.google.com/assets/colab-badge.svg)](https://colab.research.google.com/github/camenduru/Mistral-colab/blob/main/Mistral_v2.0_text_generation_webui.ipynb)"
      ]
    },
    {
      "cell_type": "code",
      "execution_count": null,
      "metadata": {
        "id": "VCFOzsQSHbjM"
      },
      "outputs": [],
      "source": [
        "%cd /content\n",
        "!apt-get -y install -qq aria2\n",
        "\n",
        "!git clone -b v3.0 https://github.com/camenduru/text-generation-webui\n",
        "%cd /content/text-generation-webui\n",
        "!pip install -q -r requirements.txt\n",
        "!pip uninstall flash-attn -y\n",
        "# !pip install -q flash-attn==2.3.1.post1 --no-build-isolation -U\n",
        "\n",
        "!aria2c --console-log-level=error -c -x 16 -s 16 -k 1M https://huggingface.co/4bit/Mistral-7B-v0.2-hf-5GB/raw/main/config.json -d /content/text-generation-webui/models/Mistral-7B-v0.2 -o config.json\n",
        "!aria2c --console-log-level=error -c -x 16 -s 16 -k 1M https://huggingface.co/4bit/Mistral-7B-v0.2-hf-5GB/raw/main/generation_config.json -d /content/text-generation-webui/models/Mistral-7B-v0.2 -o generation_config.json\n",
        "!aria2c --console-log-level=error -c -x 16 -s 16 -k 1M https://huggingface.co/4bit/Mistral-7B-v0.2-hf-5GB/resolve/main/model-00001-of-00006.safetensors -d /content/text-generation-webui/models/Mistral-7B-v0.2 -o model-00001-of-00006.safetensors\n",
        "!aria2c --console-log-level=error -c -x 16 -s 16 -k 1M https://huggingface.co/4bit/Mistral-7B-v0.2-hf-5GB/resolve/main/model-00002-of-00006.safetensors -d /content/text-generation-webui/models/Mistral-7B-v0.2 -o model-00002-of-00006.safetensors\n",
        "!aria2c --console-log-level=error -c -x 16 -s 16 -k 1M https://huggingface.co/4bit/Mistral-7B-v0.2-hf-5GB/resolve/main/model-00003-of-00006.safetensors -d /content/text-generation-webui/models/Mistral-7B-v0.2 -o model-00003-of-00006.safetensors\n",
        "!aria2c --console-log-level=error -c -x 16 -s 16 -k 1M https://huggingface.co/4bit/Mistral-7B-v0.2-hf-5GB/resolve/main/model-00004-of-00006.safetensors -d /content/text-generation-webui/models/Mistral-7B-v0.2 -o model-00004-of-00006.safetensors\n",
        "!aria2c --console-log-level=error -c -x 16 -s 16 -k 1M https://huggingface.co/4bit/Mistral-7B-v0.2-hf-5GB/resolve/main/model-00005-of-00006.safetensors -d /content/text-generation-webui/models/Mistral-7B-v0.2 -o model-00005-of-00006.safetensors\n",
        "!aria2c --console-log-level=error -c -x 16 -s 16 -k 1M https://huggingface.co/4bit/Mistral-7B-v0.2-hf-5GB/resolve/main/model-00006-of-00006.safetensors -d /content/text-generation-webui/models/Mistral-7B-v0.2 -o model-00006-of-00006.safetensors\n",
        "!aria2c --console-log-level=error -c -x 16 -s 16 -k 1M https://huggingface.co/4bit/Mistral-7B-v0.2-hf-5GB/raw/main/model.safetensors.index.json -d /content/text-generation-webui/models/Mistral-7B-v0.2 -o model.safetensors.index.json\n",
        "!aria2c --console-log-level=error -c -x 16 -s 16 -k 1M https://huggingface.co/4bit/Mistral-7B-v0.2-hf-5GB/raw/main/special_tokens_map.json -d /content/text-generation-webui/models/Mistral-7B-v0.2 -o special_tokens_map.json\n",
        "!aria2c --console-log-level=error -c -x 16 -s 16 -k 1M https://huggingface.co/4bit/Mistral-7B-v0.2-hf-5GB/raw/main/tokenizer.json -d /content/text-generation-webui/models/Mistral-7B-v0.2 -o tokenizer.json\n",
        "!aria2c --console-log-level=error -c -x 16 -s 16 -k 1M https://huggingface.co/4bit/Mistral-7B-v0.2-hf-5GB/resolve/main/tokenizer.model -d /content/text-generation-webui/models/Mistral-7B-v0.2 -o tokenizer.model\n",
        "!aria2c --console-log-level=error -c -x 16 -s 16 -k 1M https://huggingface.co/4bit/Mistral-7B-v0.2-hf-5GB/raw/main/tokenizer_config.json -d /content/text-generation-webui/models/Mistral-7B-v0.2 -o tokenizer_config.json\n",
        "\n",
        "!echo \"dark_theme: true\" > /content/settings.yaml\n",
        "!echo \"chat_style: wpp\" >> /content/settings.yaml\n",
        "!echo \"mode: 'instruct'\" >> /content/settings.yaml\n",
        "!echo \"instruction_template: 'Mistral'\" >> /content/settings.yaml\n",
        "\n",
        "%cd /content/text-generation-webui\n",
        "!python server.py --load-in-8bit --share --settings /content/settings.yaml --model /content/text-generation-webui/models/Mistral-7B-v0.2"
      ]
    }
  ],
  "metadata": {
    "accelerator": "GPU",
    "colab": {
      "provenance": []
    },
    "gpuClass": "standard",
    "kernelspec": {
      "display_name": "Python 3",
      "name": "python3"
    },
    "language_info": {
      "name": "python"
    }
  },
  "nbformat": 4,
  "nbformat_minor": 0
}
