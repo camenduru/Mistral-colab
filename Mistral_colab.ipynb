{
  "cells": [
    {
      "cell_type": "markdown",
      "metadata": {
        "id": "view-in-github"
      },
      "source": [
        "[![Open In Colab](https://colab.research.google.com/assets/colab-badge.svg)](https://colab.research.google.com/github/camenduru/Mistral-colab/blob/main/Mistral_colab.ipynb)"
      ]
    },
    {
      "cell_type": "code",
      "execution_count": null,
      "metadata": {
        "id": "VjYy0F2gZIPR"
      },
      "outputs": [],
      "source": [
        "%cd /content\n",
        "!git clone -b dev https://github.com/camenduru/voice-chat-with-mistral-hf\n",
        "\n",
        "!wget https://huggingface.co/uf/voice/resolve/main/female.wav -O /content/voice-chat-with-mistral-hf/examples/female.wav\n",
        "\n",
        "!pip install -q anyascii pysbd umap-learn trainer coqpit pypinyin gruut[de,es,fr] jamo g2pkk bangla bnnumerizer bnunicodenormalizer\n",
        "!pip install -q k_diffusion einops transformers encodec unidecode langid deepspeed pydub gradio_client gradio\n",
        "!pip install -q git+https://github.com/coqui-ai/tts.git@43a7ca800b6508d95e084728a948846556f71a40\n",
        "\n",
        "%cd /content/voice-chat-with-mistral-hf\n",
        "!python app.py"
      ]
    }
  ],
  "metadata": {
    "accelerator": "GPU",
    "colab": {
      "gpuType": "T4",
      "provenance": []
    },
    "kernelspec": {
      "display_name": "Python 3",
      "name": "python3"
    },
    "language_info": {
      "name": "python"
    }
  },
  "nbformat": 4,
  "nbformat_minor": 0
}
